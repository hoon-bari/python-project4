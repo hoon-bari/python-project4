{
  "nbformat": 4,
  "nbformat_minor": 0,
  "metadata": {
    "colab": {
      "provenance": [],
      "machine_shape": "hm",
      "toc_visible": true
    },
    "kernelspec": {
      "name": "python3",
      "display_name": "Python 3"
    },
    "language_info": {
      "name": "python"
    },
    "gpuClass": "standard",
    "accelerator": "TPU"
  },
  "cells": [
    {
      "cell_type": "code",
      "execution_count": null,
      "metadata": {
        "id": "PnSfc8QAXhjs"
      },
      "outputs": [],
      "source": [
        "!pip install scikit-surprise"
      ]
    },
    {
      "cell_type": "code",
      "source": [
        "import pandas as pd\n",
        "import surprise\n",
        "import numpy as np"
      ],
      "metadata": {
        "id": "OrwaK7AXYmSo"
      },
      "execution_count": null,
      "outputs": []
    },
    {
      "cell_type": "code",
      "source": [
        "# 일단 랜덤데이터부터 불러와서 확인해보자.\n",
        "final_data_random = pd.read_csv('/content/drive/MyDrive/212343_final_data_random.csv', index_col=0)"
      ],
      "metadata": {
        "id": "k3V0u6fMYLLK"
      },
      "execution_count": null,
      "outputs": []
    },
    {
      "cell_type": "code",
      "source": [
        "final_data_random"
      ],
      "metadata": {
        "colab": {
          "base_uri": "https://localhost:8080/",
          "height": 424
        },
        "id": "B7s5nu3TRxUj",
        "outputId": "ad422913-6bc9-47c9-a12f-925cbba232ea"
      },
      "execution_count": null,
      "outputs": [
        {
          "output_type": "execute_result",
          "data": {
            "text/plain": [
              "         userId  movieId  rating   timestamp\n",
              "0        199490     2455     3.0   974759178\n",
              "1        278741       63     3.0   845984922\n",
              "2         93731     2890     4.0   943835681\n",
              "3        131404     1347     0.5  1273463851\n",
              "4        138512     4226     3.5  1142872880\n",
              "...         ...      ...     ...         ...\n",
              "1007879  212343   189885     2.5  1529431119\n",
              "1007880  212343   191157     3.5  1531805008\n",
              "1007881  212343   192659     2.0  1534733035\n",
              "1007882  212343   192917     2.5  1535607481\n",
              "1007883  212343   193551     2.0  1537080716\n",
              "\n",
              "[1007884 rows x 4 columns]"
            ],
            "text/html": [
              "\n",
              "  <div id=\"df-0417af5c-797b-4cc3-b5c4-50722f4688e9\">\n",
              "    <div class=\"colab-df-container\">\n",
              "      <div>\n",
              "<style scoped>\n",
              "    .dataframe tbody tr th:only-of-type {\n",
              "        vertical-align: middle;\n",
              "    }\n",
              "\n",
              "    .dataframe tbody tr th {\n",
              "        vertical-align: top;\n",
              "    }\n",
              "\n",
              "    .dataframe thead th {\n",
              "        text-align: right;\n",
              "    }\n",
              "</style>\n",
              "<table border=\"1\" class=\"dataframe\">\n",
              "  <thead>\n",
              "    <tr style=\"text-align: right;\">\n",
              "      <th></th>\n",
              "      <th>userId</th>\n",
              "      <th>movieId</th>\n",
              "      <th>rating</th>\n",
              "      <th>timestamp</th>\n",
              "    </tr>\n",
              "  </thead>\n",
              "  <tbody>\n",
              "    <tr>\n",
              "      <th>0</th>\n",
              "      <td>199490</td>\n",
              "      <td>2455</td>\n",
              "      <td>3.0</td>\n",
              "      <td>974759178</td>\n",
              "    </tr>\n",
              "    <tr>\n",
              "      <th>1</th>\n",
              "      <td>278741</td>\n",
              "      <td>63</td>\n",
              "      <td>3.0</td>\n",
              "      <td>845984922</td>\n",
              "    </tr>\n",
              "    <tr>\n",
              "      <th>2</th>\n",
              "      <td>93731</td>\n",
              "      <td>2890</td>\n",
              "      <td>4.0</td>\n",
              "      <td>943835681</td>\n",
              "    </tr>\n",
              "    <tr>\n",
              "      <th>3</th>\n",
              "      <td>131404</td>\n",
              "      <td>1347</td>\n",
              "      <td>0.5</td>\n",
              "      <td>1273463851</td>\n",
              "    </tr>\n",
              "    <tr>\n",
              "      <th>4</th>\n",
              "      <td>138512</td>\n",
              "      <td>4226</td>\n",
              "      <td>3.5</td>\n",
              "      <td>1142872880</td>\n",
              "    </tr>\n",
              "    <tr>\n",
              "      <th>...</th>\n",
              "      <td>...</td>\n",
              "      <td>...</td>\n",
              "      <td>...</td>\n",
              "      <td>...</td>\n",
              "    </tr>\n",
              "    <tr>\n",
              "      <th>1007879</th>\n",
              "      <td>212343</td>\n",
              "      <td>189885</td>\n",
              "      <td>2.5</td>\n",
              "      <td>1529431119</td>\n",
              "    </tr>\n",
              "    <tr>\n",
              "      <th>1007880</th>\n",
              "      <td>212343</td>\n",
              "      <td>191157</td>\n",
              "      <td>3.5</td>\n",
              "      <td>1531805008</td>\n",
              "    </tr>\n",
              "    <tr>\n",
              "      <th>1007881</th>\n",
              "      <td>212343</td>\n",
              "      <td>192659</td>\n",
              "      <td>2.0</td>\n",
              "      <td>1534733035</td>\n",
              "    </tr>\n",
              "    <tr>\n",
              "      <th>1007882</th>\n",
              "      <td>212343</td>\n",
              "      <td>192917</td>\n",
              "      <td>2.5</td>\n",
              "      <td>1535607481</td>\n",
              "    </tr>\n",
              "    <tr>\n",
              "      <th>1007883</th>\n",
              "      <td>212343</td>\n",
              "      <td>193551</td>\n",
              "      <td>2.0</td>\n",
              "      <td>1537080716</td>\n",
              "    </tr>\n",
              "  </tbody>\n",
              "</table>\n",
              "<p>1007884 rows × 4 columns</p>\n",
              "</div>\n",
              "      <button class=\"colab-df-convert\" onclick=\"convertToInteractive('df-0417af5c-797b-4cc3-b5c4-50722f4688e9')\"\n",
              "              title=\"Convert this dataframe to an interactive table.\"\n",
              "              style=\"display:none;\">\n",
              "        \n",
              "  <svg xmlns=\"http://www.w3.org/2000/svg\" height=\"24px\"viewBox=\"0 0 24 24\"\n",
              "       width=\"24px\">\n",
              "    <path d=\"M0 0h24v24H0V0z\" fill=\"none\"/>\n",
              "    <path d=\"M18.56 5.44l.94 2.06.94-2.06 2.06-.94-2.06-.94-.94-2.06-.94 2.06-2.06.94zm-11 1L8.5 8.5l.94-2.06 2.06-.94-2.06-.94L8.5 2.5l-.94 2.06-2.06.94zm10 10l.94 2.06.94-2.06 2.06-.94-2.06-.94-.94-2.06-.94 2.06-2.06.94z\"/><path d=\"M17.41 7.96l-1.37-1.37c-.4-.4-.92-.59-1.43-.59-.52 0-1.04.2-1.43.59L10.3 9.45l-7.72 7.72c-.78.78-.78 2.05 0 2.83L4 21.41c.39.39.9.59 1.41.59.51 0 1.02-.2 1.41-.59l7.78-7.78 2.81-2.81c.8-.78.8-2.07 0-2.86zM5.41 20L4 18.59l7.72-7.72 1.47 1.35L5.41 20z\"/>\n",
              "  </svg>\n",
              "      </button>\n",
              "      \n",
              "  <style>\n",
              "    .colab-df-container {\n",
              "      display:flex;\n",
              "      flex-wrap:wrap;\n",
              "      gap: 12px;\n",
              "    }\n",
              "\n",
              "    .colab-df-convert {\n",
              "      background-color: #E8F0FE;\n",
              "      border: none;\n",
              "      border-radius: 50%;\n",
              "      cursor: pointer;\n",
              "      display: none;\n",
              "      fill: #1967D2;\n",
              "      height: 32px;\n",
              "      padding: 0 0 0 0;\n",
              "      width: 32px;\n",
              "    }\n",
              "\n",
              "    .colab-df-convert:hover {\n",
              "      background-color: #E2EBFA;\n",
              "      box-shadow: 0px 1px 2px rgba(60, 64, 67, 0.3), 0px 1px 3px 1px rgba(60, 64, 67, 0.15);\n",
              "      fill: #174EA6;\n",
              "    }\n",
              "\n",
              "    [theme=dark] .colab-df-convert {\n",
              "      background-color: #3B4455;\n",
              "      fill: #D2E3FC;\n",
              "    }\n",
              "\n",
              "    [theme=dark] .colab-df-convert:hover {\n",
              "      background-color: #434B5C;\n",
              "      box-shadow: 0px 1px 3px 1px rgba(0, 0, 0, 0.15);\n",
              "      filter: drop-shadow(0px 1px 2px rgba(0, 0, 0, 0.3));\n",
              "      fill: #FFFFFF;\n",
              "    }\n",
              "  </style>\n",
              "\n",
              "      <script>\n",
              "        const buttonEl =\n",
              "          document.querySelector('#df-0417af5c-797b-4cc3-b5c4-50722f4688e9 button.colab-df-convert');\n",
              "        buttonEl.style.display =\n",
              "          google.colab.kernel.accessAllowed ? 'block' : 'none';\n",
              "\n",
              "        async function convertToInteractive(key) {\n",
              "          const element = document.querySelector('#df-0417af5c-797b-4cc3-b5c4-50722f4688e9');\n",
              "          const dataTable =\n",
              "            await google.colab.kernel.invokeFunction('convertToInteractive',\n",
              "                                                     [key], {});\n",
              "          if (!dataTable) return;\n",
              "\n",
              "          const docLinkHtml = 'Like what you see? Visit the ' +\n",
              "            '<a target=\"_blank\" href=https://colab.research.google.com/notebooks/data_table.ipynb>data table notebook</a>'\n",
              "            + ' to learn more about interactive tables.';\n",
              "          element.innerHTML = '';\n",
              "          dataTable['output_type'] = 'display_data';\n",
              "          await google.colab.output.renderOutput(dataTable, element);\n",
              "          const docLink = document.createElement('div');\n",
              "          docLink.innerHTML = docLinkHtml;\n",
              "          element.appendChild(docLink);\n",
              "        }\n",
              "      </script>\n",
              "    </div>\n",
              "  </div>\n",
              "  "
            ]
          },
          "metadata": {},
          "execution_count": 4
        }
      ]
    },
    {
      "cell_type": "code",
      "source": [
        "# 영화 제목 확인 위해 영화 전체데이터(원본)를 한번 더 불러오자.\n",
        "movie_df = pd.read_csv('/content/drive/MyDrive/movies.csv')\n",
        "movie_df['genres'] = movie_df['genres'].str.split(\"|\")\n",
        "movie_df"
      ],
      "metadata": {
        "colab": {
          "base_uri": "https://localhost:8080/",
          "height": 424
        },
        "id": "mA_pT9v34IG0",
        "outputId": "a59e0413-8e88-460f-f2d2-a5657d7559e7"
      },
      "execution_count": null,
      "outputs": [
        {
          "output_type": "execute_result",
          "data": {
            "text/plain": [
              "       movieId                                    title  \\\n",
              "0            1                         Toy Story (1995)   \n",
              "1            2                           Jumanji (1995)   \n",
              "2            3                  Grumpier Old Men (1995)   \n",
              "3            4                 Waiting to Exhale (1995)   \n",
              "4            5       Father of the Bride Part II (1995)   \n",
              "...        ...                                      ...   \n",
              "58093   193876                  The Great Glinka (1946)   \n",
              "58094   193878  Les tribulations d'une caissière (2011)   \n",
              "58095   193880                 Her Name Was Mumu (2016)   \n",
              "58096   193882                             Flora (2017)   \n",
              "58097   193886                              Leal (2018)   \n",
              "\n",
              "                                                  genres  \n",
              "0      [Adventure, Animation, Children, Comedy, Fantasy]  \n",
              "1                         [Adventure, Children, Fantasy]  \n",
              "2                                      [Comedy, Romance]  \n",
              "3                               [Comedy, Drama, Romance]  \n",
              "4                                               [Comedy]  \n",
              "...                                                  ...  \n",
              "58093                               [(no genres listed)]  \n",
              "58094                                           [Comedy]  \n",
              "58095                                            [Drama]  \n",
              "58096                 [Adventure, Drama, Horror, Sci-Fi]  \n",
              "58097                             [Action, Crime, Drama]  \n",
              "\n",
              "[58098 rows x 3 columns]"
            ],
            "text/html": [
              "\n",
              "  <div id=\"df-7dc689e4-f4a8-4354-93ff-081d80e8dc46\">\n",
              "    <div class=\"colab-df-container\">\n",
              "      <div>\n",
              "<style scoped>\n",
              "    .dataframe tbody tr th:only-of-type {\n",
              "        vertical-align: middle;\n",
              "    }\n",
              "\n",
              "    .dataframe tbody tr th {\n",
              "        vertical-align: top;\n",
              "    }\n",
              "\n",
              "    .dataframe thead th {\n",
              "        text-align: right;\n",
              "    }\n",
              "</style>\n",
              "<table border=\"1\" class=\"dataframe\">\n",
              "  <thead>\n",
              "    <tr style=\"text-align: right;\">\n",
              "      <th></th>\n",
              "      <th>movieId</th>\n",
              "      <th>title</th>\n",
              "      <th>genres</th>\n",
              "    </tr>\n",
              "  </thead>\n",
              "  <tbody>\n",
              "    <tr>\n",
              "      <th>0</th>\n",
              "      <td>1</td>\n",
              "      <td>Toy Story (1995)</td>\n",
              "      <td>[Adventure, Animation, Children, Comedy, Fantasy]</td>\n",
              "    </tr>\n",
              "    <tr>\n",
              "      <th>1</th>\n",
              "      <td>2</td>\n",
              "      <td>Jumanji (1995)</td>\n",
              "      <td>[Adventure, Children, Fantasy]</td>\n",
              "    </tr>\n",
              "    <tr>\n",
              "      <th>2</th>\n",
              "      <td>3</td>\n",
              "      <td>Grumpier Old Men (1995)</td>\n",
              "      <td>[Comedy, Romance]</td>\n",
              "    </tr>\n",
              "    <tr>\n",
              "      <th>3</th>\n",
              "      <td>4</td>\n",
              "      <td>Waiting to Exhale (1995)</td>\n",
              "      <td>[Comedy, Drama, Romance]</td>\n",
              "    </tr>\n",
              "    <tr>\n",
              "      <th>4</th>\n",
              "      <td>5</td>\n",
              "      <td>Father of the Bride Part II (1995)</td>\n",
              "      <td>[Comedy]</td>\n",
              "    </tr>\n",
              "    <tr>\n",
              "      <th>...</th>\n",
              "      <td>...</td>\n",
              "      <td>...</td>\n",
              "      <td>...</td>\n",
              "    </tr>\n",
              "    <tr>\n",
              "      <th>58093</th>\n",
              "      <td>193876</td>\n",
              "      <td>The Great Glinka (1946)</td>\n",
              "      <td>[(no genres listed)]</td>\n",
              "    </tr>\n",
              "    <tr>\n",
              "      <th>58094</th>\n",
              "      <td>193878</td>\n",
              "      <td>Les tribulations d'une caissière (2011)</td>\n",
              "      <td>[Comedy]</td>\n",
              "    </tr>\n",
              "    <tr>\n",
              "      <th>58095</th>\n",
              "      <td>193880</td>\n",
              "      <td>Her Name Was Mumu (2016)</td>\n",
              "      <td>[Drama]</td>\n",
              "    </tr>\n",
              "    <tr>\n",
              "      <th>58096</th>\n",
              "      <td>193882</td>\n",
              "      <td>Flora (2017)</td>\n",
              "      <td>[Adventure, Drama, Horror, Sci-Fi]</td>\n",
              "    </tr>\n",
              "    <tr>\n",
              "      <th>58097</th>\n",
              "      <td>193886</td>\n",
              "      <td>Leal (2018)</td>\n",
              "      <td>[Action, Crime, Drama]</td>\n",
              "    </tr>\n",
              "  </tbody>\n",
              "</table>\n",
              "<p>58098 rows × 3 columns</p>\n",
              "</div>\n",
              "      <button class=\"colab-df-convert\" onclick=\"convertToInteractive('df-7dc689e4-f4a8-4354-93ff-081d80e8dc46')\"\n",
              "              title=\"Convert this dataframe to an interactive table.\"\n",
              "              style=\"display:none;\">\n",
              "        \n",
              "  <svg xmlns=\"http://www.w3.org/2000/svg\" height=\"24px\"viewBox=\"0 0 24 24\"\n",
              "       width=\"24px\">\n",
              "    <path d=\"M0 0h24v24H0V0z\" fill=\"none\"/>\n",
              "    <path d=\"M18.56 5.44l.94 2.06.94-2.06 2.06-.94-2.06-.94-.94-2.06-.94 2.06-2.06.94zm-11 1L8.5 8.5l.94-2.06 2.06-.94-2.06-.94L8.5 2.5l-.94 2.06-2.06.94zm10 10l.94 2.06.94-2.06 2.06-.94-2.06-.94-.94-2.06-.94 2.06-2.06.94z\"/><path d=\"M17.41 7.96l-1.37-1.37c-.4-.4-.92-.59-1.43-.59-.52 0-1.04.2-1.43.59L10.3 9.45l-7.72 7.72c-.78.78-.78 2.05 0 2.83L4 21.41c.39.39.9.59 1.41.59.51 0 1.02-.2 1.41-.59l7.78-7.78 2.81-2.81c.8-.78.8-2.07 0-2.86zM5.41 20L4 18.59l7.72-7.72 1.47 1.35L5.41 20z\"/>\n",
              "  </svg>\n",
              "      </button>\n",
              "      \n",
              "  <style>\n",
              "    .colab-df-container {\n",
              "      display:flex;\n",
              "      flex-wrap:wrap;\n",
              "      gap: 12px;\n",
              "    }\n",
              "\n",
              "    .colab-df-convert {\n",
              "      background-color: #E8F0FE;\n",
              "      border: none;\n",
              "      border-radius: 50%;\n",
              "      cursor: pointer;\n",
              "      display: none;\n",
              "      fill: #1967D2;\n",
              "      height: 32px;\n",
              "      padding: 0 0 0 0;\n",
              "      width: 32px;\n",
              "    }\n",
              "\n",
              "    .colab-df-convert:hover {\n",
              "      background-color: #E2EBFA;\n",
              "      box-shadow: 0px 1px 2px rgba(60, 64, 67, 0.3), 0px 1px 3px 1px rgba(60, 64, 67, 0.15);\n",
              "      fill: #174EA6;\n",
              "    }\n",
              "\n",
              "    [theme=dark] .colab-df-convert {\n",
              "      background-color: #3B4455;\n",
              "      fill: #D2E3FC;\n",
              "    }\n",
              "\n",
              "    [theme=dark] .colab-df-convert:hover {\n",
              "      background-color: #434B5C;\n",
              "      box-shadow: 0px 1px 3px 1px rgba(0, 0, 0, 0.15);\n",
              "      filter: drop-shadow(0px 1px 2px rgba(0, 0, 0, 0.3));\n",
              "      fill: #FFFFFF;\n",
              "    }\n",
              "  </style>\n",
              "\n",
              "      <script>\n",
              "        const buttonEl =\n",
              "          document.querySelector('#df-7dc689e4-f4a8-4354-93ff-081d80e8dc46 button.colab-df-convert');\n",
              "        buttonEl.style.display =\n",
              "          google.colab.kernel.accessAllowed ? 'block' : 'none';\n",
              "\n",
              "        async function convertToInteractive(key) {\n",
              "          const element = document.querySelector('#df-7dc689e4-f4a8-4354-93ff-081d80e8dc46');\n",
              "          const dataTable =\n",
              "            await google.colab.kernel.invokeFunction('convertToInteractive',\n",
              "                                                     [key], {});\n",
              "          if (!dataTable) return;\n",
              "\n",
              "          const docLinkHtml = 'Like what you see? Visit the ' +\n",
              "            '<a target=\"_blank\" href=https://colab.research.google.com/notebooks/data_table.ipynb>data table notebook</a>'\n",
              "            + ' to learn more about interactive tables.';\n",
              "          element.innerHTML = '';\n",
              "          dataTable['output_type'] = 'display_data';\n",
              "          await google.colab.output.renderOutput(dataTable, element);\n",
              "          const docLink = document.createElement('div');\n",
              "          docLink.innerHTML = docLinkHtml;\n",
              "          element.appendChild(docLink);\n",
              "        }\n",
              "      </script>\n",
              "    </div>\n",
              "  </div>\n",
              "  "
            ]
          },
          "metadata": {},
          "execution_count": 5
        }
      ]
    },
    {
      "cell_type": "markdown",
      "source": [
        "##1"
      ],
      "metadata": {
        "id": "nix7XDFXzQLm"
      }
    },
    {
      "cell_type": "code",
      "source": [
        "# 서프라이즈 라이브러리에서 우리가 필요한 것들을 import하자. 그리고 train, testset으로 한번 나눠보자.\n",
        "from surprise import SVD, Dataset, accuracy\n",
        "from surprise.model_selection import train_test_split\n",
        "from surprise.dataset import DatasetAutoFolds\n",
        "from surprise import Reader\n",
        "\n",
        "col = 'user item rating'\n",
        "reader = Reader(line_format=col, sep='\\t') # 반드시 사용자-아이템-평점 순서로\n",
        "data = Dataset.load_from_df(final_data_random[['userId', 'movieId', 'rating']], reader=reader)\n",
        "trainset, testset = train_test_split(data, test_size=0.25, random_state=42)"
      ],
      "metadata": {
        "id": "APJsWxBY3FoR"
      },
      "execution_count": null,
      "outputs": []
    },
    {
      "cell_type": "code",
      "source": [
        "# SVD를 이용한 잠재요인 협업 필터링을 해보자. KNN은 램이 터지려고 하더라...\n",
        "algo = SVD() # default epoch : 20 / n_factor: 100\n",
        "algo.fit(trainset) # 개발자가 __resp__ 안줘서 객체로만 나옴"
      ],
      "metadata": {
        "colab": {
          "base_uri": "https://localhost:8080/"
        },
        "id": "KXxT0W4C9Hx9",
        "outputId": "de0736dd-dd88-4cb6-d100-2c099610a5a5"
      },
      "execution_count": null,
      "outputs": [
        {
          "output_type": "execute_result",
          "data": {
            "text/plain": [
              "<surprise.prediction_algorithms.matrix_factorization.SVD at 0x7f8de270cd00>"
            ]
          },
          "metadata": {},
          "execution_count": 7
        }
      ]
    },
    {
      "cell_type": "markdown",
      "source": [
        "### 1-1"
      ],
      "metadata": {
        "id": "NyqSb-3rCRJU"
      }
    },
    {
      "cell_type": "code",
      "source": [
        "# 212343이 안 본 영화를 212343이 봤을 때 몇 점의 평점을 부여할까? 그냥 한 번 살펴보자. 사용자 아이디(uid), 아이템 아이디(iid)는 문자열로 입력해야한다.\n",
        "uid = str(212343)\n",
        "iid = str(6)\n",
        "\n",
        "# 추천 예측 평점\n",
        "pred = algo.predict(uid, iid)\n",
        "pred"
      ],
      "metadata": {
        "colab": {
          "base_uri": "https://localhost:8080/"
        },
        "id": "ciJTZaY99Yyz",
        "outputId": "e80c30cb-faf0-4e7e-fd1f-3e5df3273264"
      },
      "execution_count": null,
      "outputs": [
        {
          "output_type": "execute_result",
          "data": {
            "text/plain": [
              "Prediction(uid='212343', iid='6', r_ui=None, est=3.5789667594022063, details={'was_impossible': False})"
            ]
          },
          "metadata": {},
          "execution_count": 8
        }
      ]
    },
    {
      "cell_type": "code",
      "source": [
        "# 정확도 오차는 어느 정도 되는지 확인해보자. 테스트 세트 전체 대상으로.\n",
        "predictions = algo.test(testset)\n",
        "\n",
        "print('prediction type :',type(predictions), ' size:',len(predictions))\n",
        "print('prediction 결과의 최초 5개 추출')\n",
        "\n",
        "predictions[:5]"
      ],
      "metadata": {
        "colab": {
          "base_uri": "https://localhost:8080/"
        },
        "id": "L4AZcmAf9ZAD",
        "outputId": "01092cfb-16dc-4395-c362-f17add41be6c"
      },
      "execution_count": null,
      "outputs": [
        {
          "output_type": "stream",
          "name": "stdout",
          "text": [
            "prediction type : <class 'list'>  size: 251971\n",
            "prediction 결과의 최초 5개 추출\n"
          ]
        },
        {
          "output_type": "execute_result",
          "data": {
            "text/plain": [
              "[Prediction(uid=117096, iid=151, r_ui=4.0, est=3.7758362893478212, details={'was_impossible': False}),\n",
              " Prediction(uid=233811, iid=367, r_ui=3.0, est=2.50081113412467, details={'was_impossible': False}),\n",
              " Prediction(uid=133739, iid=3448, r_ui=4.0, est=3.4604568226446997, details={'was_impossible': False}),\n",
              " Prediction(uid=19913, iid=349, r_ui=3.5, est=4.229937669515227, details={'was_impossible': False}),\n",
              " Prediction(uid=217446, iid=1438, r_ui=3.5, est=2.851744850468152, details={'was_impossible': False})]"
            ]
          },
          "metadata": {},
          "execution_count": 9
        }
      ]
    },
    {
      "cell_type": "code",
      "source": [
        "# 오... 나쁘지 않은듯\n",
        "accuracy.rmse(predictions)"
      ],
      "metadata": {
        "colab": {
          "base_uri": "https://localhost:8080/"
        },
        "id": "IjK_Qgrn-bId",
        "outputId": "b54226d2-0a56-477b-cc58-4a90d31b8439"
      },
      "execution_count": null,
      "outputs": [
        {
          "output_type": "stream",
          "name": "stdout",
          "text": [
            "RMSE: 0.9027\n"
          ]
        },
        {
          "output_type": "execute_result",
          "data": {
            "text/plain": [
              "0.9027436706418387"
            ]
          },
          "metadata": {},
          "execution_count": 10
        }
      ]
    },
    {
      "cell_type": "markdown",
      "source": [
        "##2"
      ],
      "metadata": {
        "id": "3m-tWfpVzXyl"
      }
    },
    {
      "cell_type": "code",
      "source": [
        "# 이제 최적의 파라미터를 찾은 후 그렇게 분석했을 때 어떻게 결과가 나오는지 살펴보자. 근데 얘는 시간이 좀 오래걸림 ㅋㅋ 너무 파라미터를 많이 넣지 말자.\n",
        "from surprise.model_selection import GridSearchCV\n",
        "\n",
        "param_grid = {'n_epochs':[20, 40, 60], 'n_factors':[50, 100, 200]}\n",
        "\n",
        "# 얘는 인자에 알고리즘 자체를 넣어줌. 첫 번째 인자로 SVD를 넣어주자.\n",
        "grid = GridSearchCV(SVD, param_grid=param_grid, measures=['rmse', 'mae'], cv=3) # 교차검증은 3번. 더 할 수도 있는데 시간이...\n",
        "# MAE : Mean Absolute Error, 모델의 예측값과 실제값의 차이의 절대값의 평균, 절대값을 취하기 때문에 가장 직관적으로 알 수 있는 지표이다.(해석에 용이하다.)\n",
        "\n",
        "grid.fit(data)\n",
        "\n",
        "print(grid.best_score['rmse'])\n",
        "print(grid.best_params['rmse'])"
      ],
      "metadata": {
        "colab": {
          "base_uri": "https://localhost:8080/"
        },
        "id": "TwhDYPakUmlH",
        "outputId": "abcf3e7e-9f57-4f8c-ba93-9be67956b204"
      },
      "execution_count": null,
      "outputs": [
        {
          "output_type": "stream",
          "name": "stdout",
          "text": [
            "0.8984066874427162\n",
            "{'n_epochs': 20, 'n_factors': 50}\n"
          ]
        }
      ]
    },
    {
      "cell_type": "code",
      "source": [
        "# 에포크 20, 잠재요인 50개가 최적의 파라미터라고 한다.\n",
        "# 그럼 이제부터 212343에게 영화를 추천해보자. 전체 데이터를 학습시켜야 하는데, 아래 데이터를 읽는 부분에서 header와 index가 없어야하므로 제거해주고 저장하자.\n",
        "final_data_random.to_csv('final_data_random_212343_header_none.csv', index=False, header=False)"
      ],
      "metadata": {
        "id": "aGyg1XV5_OrJ"
      },
      "execution_count": null,
      "outputs": []
    },
    {
      "cell_type": "code",
      "source": [
        "col = 'user item rating'\n",
        "reader = Reader(line_format=col, sep=',', rating_scale=(0.5, 5))\n",
        "# 전체 데이터를 학습시키기 위해 DatasetAutoFolds를 씀. 얘는 파일 경로를 다시 줘야하니 참고.\n",
        "data_folds = DatasetAutoFolds(ratings_file='/content/final_data_random_212343_header_none.csv', reader=reader)\n",
        "data_folds"
      ],
      "metadata": {
        "colab": {
          "base_uri": "https://localhost:8080/"
        },
        "id": "IEwEH23j4fkv",
        "outputId": "14e3307f-7144-4aab-afb0-ff59da1f61bd"
      },
      "execution_count": null,
      "outputs": [
        {
          "output_type": "execute_result",
          "data": {
            "text/plain": [
              "<surprise.dataset.DatasetAutoFolds at 0x7f8de27d3160>"
            ]
          },
          "metadata": {},
          "execution_count": 13
        }
      ]
    },
    {
      "cell_type": "code",
      "source": [
        "# 전체 데이터를 학습 데이터로 생성함.\n",
        "trainset = data_folds.build_full_trainset()"
      ],
      "metadata": {
        "id": "rb5w3c_S47mi"
      },
      "execution_count": null,
      "outputs": []
    },
    {
      "cell_type": "code",
      "source": [
        "# 최적의 파라미터로 학습해보자. 물론 SVD의 최적 파라미터이다. 에포크 20은 디폴트 값이라 안줘도 되긴 하는데, 여기서는 그냥 줬다.\n",
        "algo = SVD(n_epochs =  20, n_factors = 50)\n",
        "algo.fit(trainset)"
      ],
      "metadata": {
        "colab": {
          "base_uri": "https://localhost:8080/"
        },
        "id": "wCnYii81BmM2",
        "outputId": "80dae050-e52f-40ee-c25f-8de805d99904"
      },
      "execution_count": null,
      "outputs": [
        {
          "output_type": "execute_result",
          "data": {
            "text/plain": [
              "<surprise.prediction_algorithms.matrix_factorization.SVD at 0x7f8de27d3ee0>"
            ]
          },
          "metadata": {},
          "execution_count": 15
        }
      ]
    },
    {
      "cell_type": "markdown",
      "source": [
        "### 2-1"
      ],
      "metadata": {
        "id": "5spnk214CV3r"
      }
    },
    {
      "cell_type": "code",
      "source": [
        "# 아까처럼 212343이 안 본 6번 영화 데이터에 대해 예측 평점을 다시 구해보자. 영화 제목도 확인.\n",
        "uid = str(212343)\n",
        "iid = str(6)\n",
        "\n",
        "pred = algo.predict(uid, iid, verbose=True)\n",
        "print(movie_df[movie_df['movieId']==6])"
      ],
      "metadata": {
        "colab": {
          "base_uri": "https://localhost:8080/"
        },
        "id": "lDoZIJ3iB74a",
        "outputId": "a691bae1-09c8-40ea-9169-6a9e2e69da52"
      },
      "execution_count": null,
      "outputs": [
        {
          "output_type": "stream",
          "name": "stdout",
          "text": [
            "user: 212343     item: 6          r_ui = None   est = 3.02   {'was_impossible': False}\n",
            "   movieId        title                     genres\n",
            "5        6  Heat (1995)  [Action, Crime, Thriller]\n"
          ]
        }
      ]
    },
    {
      "cell_type": "markdown",
      "source": [
        "## 3"
      ],
      "metadata": {
        "id": "Y5OJ2xnWzkqU"
      }
    },
    {
      "cell_type": "code",
      "source": [
        "# 위에랑 비교해서 예측 평점이 많이 줄었다. 물론 최적 파라미터로 학습한 이 데이터가 더 정확할 것이다.\n",
        "# 이제 위에서 뽑아온 랜덤 데이터 중 212343이 안 본 전체 영화데이터를 뽑아와본 후, 예측 평점 순서대로 영화를 추천해보자.\n",
        "def get_unwatched_movie(final_data_random, movie_df, userId):\n",
        "    # 입력값으로 들어온 userId가 본 영화의 movieId를 리스트로\n",
        "    watched_movies = final_data_random[final_data_random['userId']==userId]['movieId'].tolist()\n",
        "\n",
        "    # 모든 영화의 movieId를 리스트로\n",
        "    total_movies = movie_df['movieId'].tolist()\n",
        "\n",
        "    # 모든 영화 중 userId에 해당하는 유저가 본 영화를 제외한 영화를 리스트로\n",
        "    not_watched_movies = [movie for movie in total_movies if movie not in watched_movies]\n",
        "\n",
        "    print('모든 영화 수 : ',len(total_movies), '평점 매긴 영화 수 : ',len(watched_movies), '추천 대상 영화 수 : ',len(not_watched_movies))\n",
        "\n",
        "    return not_watched_movies"
      ],
      "metadata": {
        "id": "rUawijtYCT8q"
      },
      "execution_count": null,
      "outputs": []
    },
    {
      "cell_type": "code",
      "source": [
        "# 212343이 안 본 영화 수 확인\n",
        "not_watched_movies = get_unwatched_movie(final_data_random, movie_df, 212343)"
      ],
      "metadata": {
        "colab": {
          "base_uri": "https://localhost:8080/"
        },
        "id": "onQsV6WtEvC3",
        "outputId": "5ab3d188-d445-42df-9de0-32cbb4776e68"
      },
      "execution_count": null,
      "outputs": [
        {
          "output_type": "stream",
          "name": "stdout",
          "text": [
            "모든 영화 수 :  58098 평점 매긴 영화 수 :  7884 추천 대상 영화 수 :  50214\n"
          ]
        }
      ]
    },
    {
      "cell_type": "code",
      "source": [
        "# 위 영화를 대상으로 예측 평점이 높은 순으로 추천 데이터 셋을 만들어보자.\n",
        "def recommend_movies_for_user(algo, userId, not_watched_movies, top_n):\n",
        "    predictions = [algo.predict(str(userId), str(movieId)) for movieId in not_watched_movies]\n",
        "\n",
        "    # 위의 prediction은 예측값을 가지고 있음. 그 예측값으로 정렬하기 위한 함수를 하나 정의하자.\n",
        "    def sort_est(pred):\n",
        "        return pred.est\n",
        "    \n",
        "    # 예측값을 내림차순 정렬하자.\n",
        "    predictions.sort(key=sort_est, reverse=True)\n",
        "\n",
        "    # 상위 top_n개의 prediction 객체\n",
        "    top_predictions = predictions[:top_n]\n",
        "\n",
        "    print(f\"{userId}님의 인생을 바꿀 Top {top_n} 추천 영화 리스트\")\n",
        "\n",
        "    for pred in top_predictions:\n",
        "        \n",
        "        movie_id = int(pred.iid)\n",
        "        movie_title = movie_df[movie_df[\"movieId\"] == movie_id][\"title\"].tolist()\n",
        "        movie_genre = movie_df[movie_df[\"movieId\"] == movie_id][\"genres\"].tolist()\n",
        "        movie_rating = pred.est\n",
        "        \n",
        "        print(f\"{movie_title}: {movie_rating:.2f} // {movie_genre}\")"
      ],
      "metadata": {
        "id": "02NedyHZE7rZ"
      },
      "execution_count": null,
      "outputs": []
    },
    {
      "cell_type": "markdown",
      "source": [
        "### 3-1"
      ],
      "metadata": {
        "id": "gxw3SydyCZ3b"
      }
    },
    {
      "cell_type": "code",
      "source": [
        "# 돌려보자.\n",
        "# ... 나름 인생을 바꿀 영화인데 평점이 좀 짜지 않냐...?\n",
        "recommend_movies_for_user(algo, 212343, not_watched_movies, 5)"
      ],
      "metadata": {
        "colab": {
          "base_uri": "https://localhost:8080/"
        },
        "id": "YWO6IYVPN6vI",
        "outputId": "c4a614b8-d070-4767-8e6a-80f51fa561d0"
      },
      "execution_count": null,
      "outputs": [
        {
          "output_type": "stream",
          "name": "stdout",
          "text": [
            "212343님의 인생을 바꿀 Top 5 추천 영화 리스트\n",
            "['Shoah (1985)']: 3.50 // [['Documentary', 'War']]\n",
            "['Come and See (Idi i smotri) (1985)']: 3.46 // [['Drama', 'War']]\n",
            "['Black Mirror: White Christmas (2014)']: 3.46 // [['Drama', 'Horror', 'Mystery', 'Sci-Fi', 'Thriller']]\n",
            "['Harry Potter and the Deathly Hallows: Part 2 (2011)']: 3.44 // [['Action', 'Adventure', 'Drama', 'Fantasy', 'Mystery', 'IMAX']]\n",
            "['Enigma of Kaspar Hauser, The (a.k.a. Mystery of Kaspar Hauser, The) (Jeder für sich und Gott Gegen Alle) (1974)']: 3.42 // [['Crime', 'Drama']]\n"
          ]
        }
      ]
    },
    {
      "cell_type": "code",
      "source": [
        "# 랜덤만 돌려봤는데, 이번엔 앞에서 장르별로 정리한 전체 데이터 대상으로 한번 학습시켜보자. 데이터 개수가 몇개냐고? 1000만개다...\n",
        "final_data = pd.read_csv('/content/drive/MyDrive/212343_final_data.csv', index_col=0)\n",
        "final_data"
      ],
      "metadata": {
        "colab": {
          "base_uri": "https://localhost:8080/",
          "height": 424
        },
        "id": "85dbC_pvcypr",
        "outputId": "ab71e011-5400-4324-c4c4-888028218de5"
      },
      "execution_count": null,
      "outputs": [
        {
          "output_type": "execute_result",
          "data": {
            "text/plain": [
              "          userId  movieId  rating   timestamp\n",
              "0         183750        6     3.0   857915212\n",
              "1         277081        6     5.0  1097520094\n",
              "2         242725        6     3.5  1275235314\n",
              "3         231078        6     5.0  1114780711\n",
              "4          38333        6     5.0  1251843253\n",
              "...          ...      ...     ...         ...\n",
              "11315851  212343   189885     2.5  1529431119\n",
              "11315852  212343   191157     3.5  1531805008\n",
              "11315853  212343   192659     2.0  1534733035\n",
              "11315854  212343   192917     2.5  1535607481\n",
              "11315855  212343   193551     2.0  1537080716\n",
              "\n",
              "[11315856 rows x 4 columns]"
            ],
            "text/html": [
              "\n",
              "  <div id=\"df-d3a56900-e2ac-453a-b11b-7777de0d81bd\">\n",
              "    <div class=\"colab-df-container\">\n",
              "      <div>\n",
              "<style scoped>\n",
              "    .dataframe tbody tr th:only-of-type {\n",
              "        vertical-align: middle;\n",
              "    }\n",
              "\n",
              "    .dataframe tbody tr th {\n",
              "        vertical-align: top;\n",
              "    }\n",
              "\n",
              "    .dataframe thead th {\n",
              "        text-align: right;\n",
              "    }\n",
              "</style>\n",
              "<table border=\"1\" class=\"dataframe\">\n",
              "  <thead>\n",
              "    <tr style=\"text-align: right;\">\n",
              "      <th></th>\n",
              "      <th>userId</th>\n",
              "      <th>movieId</th>\n",
              "      <th>rating</th>\n",
              "      <th>timestamp</th>\n",
              "    </tr>\n",
              "  </thead>\n",
              "  <tbody>\n",
              "    <tr>\n",
              "      <th>0</th>\n",
              "      <td>183750</td>\n",
              "      <td>6</td>\n",
              "      <td>3.0</td>\n",
              "      <td>857915212</td>\n",
              "    </tr>\n",
              "    <tr>\n",
              "      <th>1</th>\n",
              "      <td>277081</td>\n",
              "      <td>6</td>\n",
              "      <td>5.0</td>\n",
              "      <td>1097520094</td>\n",
              "    </tr>\n",
              "    <tr>\n",
              "      <th>2</th>\n",
              "      <td>242725</td>\n",
              "      <td>6</td>\n",
              "      <td>3.5</td>\n",
              "      <td>1275235314</td>\n",
              "    </tr>\n",
              "    <tr>\n",
              "      <th>3</th>\n",
              "      <td>231078</td>\n",
              "      <td>6</td>\n",
              "      <td>5.0</td>\n",
              "      <td>1114780711</td>\n",
              "    </tr>\n",
              "    <tr>\n",
              "      <th>4</th>\n",
              "      <td>38333</td>\n",
              "      <td>6</td>\n",
              "      <td>5.0</td>\n",
              "      <td>1251843253</td>\n",
              "    </tr>\n",
              "    <tr>\n",
              "      <th>...</th>\n",
              "      <td>...</td>\n",
              "      <td>...</td>\n",
              "      <td>...</td>\n",
              "      <td>...</td>\n",
              "    </tr>\n",
              "    <tr>\n",
              "      <th>11315851</th>\n",
              "      <td>212343</td>\n",
              "      <td>189885</td>\n",
              "      <td>2.5</td>\n",
              "      <td>1529431119</td>\n",
              "    </tr>\n",
              "    <tr>\n",
              "      <th>11315852</th>\n",
              "      <td>212343</td>\n",
              "      <td>191157</td>\n",
              "      <td>3.5</td>\n",
              "      <td>1531805008</td>\n",
              "    </tr>\n",
              "    <tr>\n",
              "      <th>11315853</th>\n",
              "      <td>212343</td>\n",
              "      <td>192659</td>\n",
              "      <td>2.0</td>\n",
              "      <td>1534733035</td>\n",
              "    </tr>\n",
              "    <tr>\n",
              "      <th>11315854</th>\n",
              "      <td>212343</td>\n",
              "      <td>192917</td>\n",
              "      <td>2.5</td>\n",
              "      <td>1535607481</td>\n",
              "    </tr>\n",
              "    <tr>\n",
              "      <th>11315855</th>\n",
              "      <td>212343</td>\n",
              "      <td>193551</td>\n",
              "      <td>2.0</td>\n",
              "      <td>1537080716</td>\n",
              "    </tr>\n",
              "  </tbody>\n",
              "</table>\n",
              "<p>11315856 rows × 4 columns</p>\n",
              "</div>\n",
              "      <button class=\"colab-df-convert\" onclick=\"convertToInteractive('df-d3a56900-e2ac-453a-b11b-7777de0d81bd')\"\n",
              "              title=\"Convert this dataframe to an interactive table.\"\n",
              "              style=\"display:none;\">\n",
              "        \n",
              "  <svg xmlns=\"http://www.w3.org/2000/svg\" height=\"24px\"viewBox=\"0 0 24 24\"\n",
              "       width=\"24px\">\n",
              "    <path d=\"M0 0h24v24H0V0z\" fill=\"none\"/>\n",
              "    <path d=\"M18.56 5.44l.94 2.06.94-2.06 2.06-.94-2.06-.94-.94-2.06-.94 2.06-2.06.94zm-11 1L8.5 8.5l.94-2.06 2.06-.94-2.06-.94L8.5 2.5l-.94 2.06-2.06.94zm10 10l.94 2.06.94-2.06 2.06-.94-2.06-.94-.94-2.06-.94 2.06-2.06.94z\"/><path d=\"M17.41 7.96l-1.37-1.37c-.4-.4-.92-.59-1.43-.59-.52 0-1.04.2-1.43.59L10.3 9.45l-7.72 7.72c-.78.78-.78 2.05 0 2.83L4 21.41c.39.39.9.59 1.41.59.51 0 1.02-.2 1.41-.59l7.78-7.78 2.81-2.81c.8-.78.8-2.07 0-2.86zM5.41 20L4 18.59l7.72-7.72 1.47 1.35L5.41 20z\"/>\n",
              "  </svg>\n",
              "      </button>\n",
              "      \n",
              "  <style>\n",
              "    .colab-df-container {\n",
              "      display:flex;\n",
              "      flex-wrap:wrap;\n",
              "      gap: 12px;\n",
              "    }\n",
              "\n",
              "    .colab-df-convert {\n",
              "      background-color: #E8F0FE;\n",
              "      border: none;\n",
              "      border-radius: 50%;\n",
              "      cursor: pointer;\n",
              "      display: none;\n",
              "      fill: #1967D2;\n",
              "      height: 32px;\n",
              "      padding: 0 0 0 0;\n",
              "      width: 32px;\n",
              "    }\n",
              "\n",
              "    .colab-df-convert:hover {\n",
              "      background-color: #E2EBFA;\n",
              "      box-shadow: 0px 1px 2px rgba(60, 64, 67, 0.3), 0px 1px 3px 1px rgba(60, 64, 67, 0.15);\n",
              "      fill: #174EA6;\n",
              "    }\n",
              "\n",
              "    [theme=dark] .colab-df-convert {\n",
              "      background-color: #3B4455;\n",
              "      fill: #D2E3FC;\n",
              "    }\n",
              "\n",
              "    [theme=dark] .colab-df-convert:hover {\n",
              "      background-color: #434B5C;\n",
              "      box-shadow: 0px 1px 3px 1px rgba(0, 0, 0, 0.15);\n",
              "      filter: drop-shadow(0px 1px 2px rgba(0, 0, 0, 0.3));\n",
              "      fill: #FFFFFF;\n",
              "    }\n",
              "  </style>\n",
              "\n",
              "      <script>\n",
              "        const buttonEl =\n",
              "          document.querySelector('#df-d3a56900-e2ac-453a-b11b-7777de0d81bd button.colab-df-convert');\n",
              "        buttonEl.style.display =\n",
              "          google.colab.kernel.accessAllowed ? 'block' : 'none';\n",
              "\n",
              "        async function convertToInteractive(key) {\n",
              "          const element = document.querySelector('#df-d3a56900-e2ac-453a-b11b-7777de0d81bd');\n",
              "          const dataTable =\n",
              "            await google.colab.kernel.invokeFunction('convertToInteractive',\n",
              "                                                     [key], {});\n",
              "          if (!dataTable) return;\n",
              "\n",
              "          const docLinkHtml = 'Like what you see? Visit the ' +\n",
              "            '<a target=\"_blank\" href=https://colab.research.google.com/notebooks/data_table.ipynb>data table notebook</a>'\n",
              "            + ' to learn more about interactive tables.';\n",
              "          element.innerHTML = '';\n",
              "          dataTable['output_type'] = 'display_data';\n",
              "          await google.colab.output.renderOutput(dataTable, element);\n",
              "          const docLink = document.createElement('div');\n",
              "          docLink.innerHTML = docLinkHtml;\n",
              "          element.appendChild(docLink);\n",
              "        }\n",
              "      </script>\n",
              "    </div>\n",
              "  </div>\n",
              "  "
            ]
          },
          "metadata": {},
          "execution_count": 29
        }
      ]
    },
    {
      "cell_type": "code",
      "source": [
        "# 똑같이 전체 데이터를 학습시켜보자. 학습 시키기 전에 index랑 header 날리기\n",
        "final_data.to_csv('final_data_212343_header_none.csv', index=False, header=False)"
      ],
      "metadata": {
        "id": "_JiHhNiIdBHH"
      },
      "execution_count": null,
      "outputs": []
    },
    {
      "cell_type": "code",
      "source": [
        "# 똑같이 fold\n",
        "col = 'user item rating'\n",
        "reader = Reader(line_format=col, sep=',', rating_scale=(0.5, 5))\n",
        "data_folds_all = DatasetAutoFolds(ratings_file='/content/final_data_212343_header_none.csv', reader=reader)\n",
        "data_folds_all"
      ],
      "metadata": {
        "colab": {
          "base_uri": "https://localhost:8080/"
        },
        "id": "H98gUypNdbah",
        "outputId": "5669e581-3d0c-4b83-ba54-833c208e2941"
      },
      "execution_count": null,
      "outputs": [
        {
          "output_type": "execute_result",
          "data": {
            "text/plain": [
              "<surprise.dataset.DatasetAutoFolds at 0x7f8de269ac40>"
            ]
          },
          "metadata": {},
          "execution_count": 31
        }
      ]
    },
    {
      "cell_type": "code",
      "source": [
        "all_trainset = data_folds_all.build_full_trainset()"
      ],
      "metadata": {
        "id": "0FzBby4Ydohc"
      },
      "execution_count": null,
      "outputs": []
    },
    {
      "cell_type": "code",
      "source": [
        "# 최적의 파라미터로 학습. 물론 SVD\n",
        "algo = SVD(n_epochs =  20, n_factors = 50)\n",
        "algo.fit(all_trainset)"
      ],
      "metadata": {
        "colab": {
          "base_uri": "https://localhost:8080/"
        },
        "id": "SL8L7qGAdsSg",
        "outputId": "d9002690-18a2-4d55-c65b-fbe1464b27aa"
      },
      "execution_count": null,
      "outputs": [
        {
          "output_type": "execute_result",
          "data": {
            "text/plain": [
              "<surprise.prediction_algorithms.matrix_factorization.SVD at 0x7f8de26f4f70>"
            ]
          },
          "metadata": {},
          "execution_count": 33
        }
      ]
    },
    {
      "cell_type": "code",
      "source": [
        "# 212343이 안 본 영화 수 확인. 어차피 안본 영화 수는 랜덤데이터나 전체데이터나 똑같다.\n",
        "not_watched_movies_all = get_unwatched_movie(final_data, movie_df, 212343)"
      ],
      "metadata": {
        "colab": {
          "base_uri": "https://localhost:8080/"
        },
        "id": "qSHu_uIWd6Ku",
        "outputId": "ddf2329d-c11c-47fc-885a-12e21029cf49"
      },
      "execution_count": null,
      "outputs": [
        {
          "output_type": "stream",
          "name": "stdout",
          "text": [
            "모든 영화 수 :  58098 평점 매긴 영화 수 :  7884 추천 대상 영화 수 :  50214\n"
          ]
        }
      ]
    },
    {
      "cell_type": "markdown",
      "source": [
        "### 3-2"
      ],
      "metadata": {
        "id": "FJ0-s0sZCdz7"
      }
    },
    {
      "cell_type": "code",
      "source": [
        "# 돌려보자. 랜덤 100만개와 같은 영화가 하나 있다. 위 결과와 예측 평점은 0.1정도 차이나는듯.\n",
        "recommend_movies_for_user(algo, 212343, not_watched_movies_all, 5)\n",
        "\n",
        "''' \n",
        "\n",
        "실제 IMDB에 등록되어있는 아래 영화 평점\n",
        "1. Civil War, The (1990) // Rating: 9.1/10 · ‎16,926 votes\n",
        "2. Revenge of the Pink Panther (1978) // Rating: 6.6/10 · ‎22,171 votes\n",
        "3. The Invisible Guest (2016) // Rating: 8/10 · ‎179,344 votes\n",
        "4. Black Mirror: White Christmas (2014) // Rating: 9.1/10 · ‎59,458 votes\n",
        "5. Pink Panther Strikes Again, The (1976) // Rating: 7.2/10 · ‎30,449 votes\n",
        "\n",
        "'''"
      ],
      "metadata": {
        "colab": {
          "base_uri": "https://localhost:8080/"
        },
        "id": "ZSfffcreeADZ",
        "outputId": "f2070b83-fdc1-4783-9e38-f5f1db4ddd03"
      },
      "execution_count": null,
      "outputs": [
        {
          "output_type": "stream",
          "name": "stdout",
          "text": [
            "212343님의 인생을 바꿀 Top 5 추천 영화 리스트\n",
            "['Civil War, The (1990)']: 4.13 // [['Documentary', 'War']]\n",
            "['Revenge of the Pink Panther (1978)']: 3.65 // [['Comedy', 'Crime']]\n",
            "['The Invisible Guest (2016)']: 3.63 // [['Thriller']]\n",
            "['Black Mirror: White Christmas (2014)']: 3.59 // [['Drama', 'Horror', 'Mystery', 'Sci-Fi', 'Thriller']]\n",
            "['Pink Panther Strikes Again, The (1976)']: 3.55 // [['Comedy', 'Crime']]\n"
          ]
        }
      ]
    },
    {
      "cell_type": "markdown",
      "source": [
        "##4"
      ],
      "metadata": {
        "id": "w-V4-hPtzxFE"
      }
    },
    {
      "cell_type": "code",
      "source": [
        "# 그럼 문득 궁금할 것이다. 이 예측 모델이 제대로 점수를 주는걸까? 얘가 평점 3.5점을 준 영화와 5점을 준 영화 각각 하나만 지우고 다시 학습을 시켜보자. 그래놓고 비슷하게 별점을 주는지 보자.\n",
        "for_delete = final_data[final_data['userId'] == 212343]\n",
        "for_delete = for_delete[(for_delete['movieId'] == 177901)|(for_delete['movieId'] == 50)]\n",
        "for_delete"
      ],
      "metadata": {
        "colab": {
          "base_uri": "https://localhost:8080/",
          "height": 112
        },
        "id": "prqIBuI4zwmW",
        "outputId": "7b47ae88-66f9-4044-fbb6-d4886ee43b5c"
      },
      "execution_count": null,
      "outputs": [
        {
          "output_type": "execute_result",
          "data": {
            "text/plain": [
              "          userId  movieId  rating   timestamp\n",
              "11308007  212343       50     5.0  1436133986\n",
              "11315820  212343   177901     3.5  1516509756"
            ],
            "text/html": [
              "\n",
              "  <div id=\"df-17141c07-467f-40ff-8f4e-16884fb7f5c4\">\n",
              "    <div class=\"colab-df-container\">\n",
              "      <div>\n",
              "<style scoped>\n",
              "    .dataframe tbody tr th:only-of-type {\n",
              "        vertical-align: middle;\n",
              "    }\n",
              "\n",
              "    .dataframe tbody tr th {\n",
              "        vertical-align: top;\n",
              "    }\n",
              "\n",
              "    .dataframe thead th {\n",
              "        text-align: right;\n",
              "    }\n",
              "</style>\n",
              "<table border=\"1\" class=\"dataframe\">\n",
              "  <thead>\n",
              "    <tr style=\"text-align: right;\">\n",
              "      <th></th>\n",
              "      <th>userId</th>\n",
              "      <th>movieId</th>\n",
              "      <th>rating</th>\n",
              "      <th>timestamp</th>\n",
              "    </tr>\n",
              "  </thead>\n",
              "  <tbody>\n",
              "    <tr>\n",
              "      <th>11308007</th>\n",
              "      <td>212343</td>\n",
              "      <td>50</td>\n",
              "      <td>5.0</td>\n",
              "      <td>1436133986</td>\n",
              "    </tr>\n",
              "    <tr>\n",
              "      <th>11315820</th>\n",
              "      <td>212343</td>\n",
              "      <td>177901</td>\n",
              "      <td>3.5</td>\n",
              "      <td>1516509756</td>\n",
              "    </tr>\n",
              "  </tbody>\n",
              "</table>\n",
              "</div>\n",
              "      <button class=\"colab-df-convert\" onclick=\"convertToInteractive('df-17141c07-467f-40ff-8f4e-16884fb7f5c4')\"\n",
              "              title=\"Convert this dataframe to an interactive table.\"\n",
              "              style=\"display:none;\">\n",
              "        \n",
              "  <svg xmlns=\"http://www.w3.org/2000/svg\" height=\"24px\"viewBox=\"0 0 24 24\"\n",
              "       width=\"24px\">\n",
              "    <path d=\"M0 0h24v24H0V0z\" fill=\"none\"/>\n",
              "    <path d=\"M18.56 5.44l.94 2.06.94-2.06 2.06-.94-2.06-.94-.94-2.06-.94 2.06-2.06.94zm-11 1L8.5 8.5l.94-2.06 2.06-.94-2.06-.94L8.5 2.5l-.94 2.06-2.06.94zm10 10l.94 2.06.94-2.06 2.06-.94-2.06-.94-.94-2.06-.94 2.06-2.06.94z\"/><path d=\"M17.41 7.96l-1.37-1.37c-.4-.4-.92-.59-1.43-.59-.52 0-1.04.2-1.43.59L10.3 9.45l-7.72 7.72c-.78.78-.78 2.05 0 2.83L4 21.41c.39.39.9.59 1.41.59.51 0 1.02-.2 1.41-.59l7.78-7.78 2.81-2.81c.8-.78.8-2.07 0-2.86zM5.41 20L4 18.59l7.72-7.72 1.47 1.35L5.41 20z\"/>\n",
              "  </svg>\n",
              "      </button>\n",
              "      \n",
              "  <style>\n",
              "    .colab-df-container {\n",
              "      display:flex;\n",
              "      flex-wrap:wrap;\n",
              "      gap: 12px;\n",
              "    }\n",
              "\n",
              "    .colab-df-convert {\n",
              "      background-color: #E8F0FE;\n",
              "      border: none;\n",
              "      border-radius: 50%;\n",
              "      cursor: pointer;\n",
              "      display: none;\n",
              "      fill: #1967D2;\n",
              "      height: 32px;\n",
              "      padding: 0 0 0 0;\n",
              "      width: 32px;\n",
              "    }\n",
              "\n",
              "    .colab-df-convert:hover {\n",
              "      background-color: #E2EBFA;\n",
              "      box-shadow: 0px 1px 2px rgba(60, 64, 67, 0.3), 0px 1px 3px 1px rgba(60, 64, 67, 0.15);\n",
              "      fill: #174EA6;\n",
              "    }\n",
              "\n",
              "    [theme=dark] .colab-df-convert {\n",
              "      background-color: #3B4455;\n",
              "      fill: #D2E3FC;\n",
              "    }\n",
              "\n",
              "    [theme=dark] .colab-df-convert:hover {\n",
              "      background-color: #434B5C;\n",
              "      box-shadow: 0px 1px 3px 1px rgba(0, 0, 0, 0.15);\n",
              "      filter: drop-shadow(0px 1px 2px rgba(0, 0, 0, 0.3));\n",
              "      fill: #FFFFFF;\n",
              "    }\n",
              "  </style>\n",
              "\n",
              "      <script>\n",
              "        const buttonEl =\n",
              "          document.querySelector('#df-17141c07-467f-40ff-8f4e-16884fb7f5c4 button.colab-df-convert');\n",
              "        buttonEl.style.display =\n",
              "          google.colab.kernel.accessAllowed ? 'block' : 'none';\n",
              "\n",
              "        async function convertToInteractive(key) {\n",
              "          const element = document.querySelector('#df-17141c07-467f-40ff-8f4e-16884fb7f5c4');\n",
              "          const dataTable =\n",
              "            await google.colab.kernel.invokeFunction('convertToInteractive',\n",
              "                                                     [key], {});\n",
              "          if (!dataTable) return;\n",
              "\n",
              "          const docLinkHtml = 'Like what you see? Visit the ' +\n",
              "            '<a target=\"_blank\" href=https://colab.research.google.com/notebooks/data_table.ipynb>data table notebook</a>'\n",
              "            + ' to learn more about interactive tables.';\n",
              "          element.innerHTML = '';\n",
              "          dataTable['output_type'] = 'display_data';\n",
              "          await google.colab.output.renderOutput(dataTable, element);\n",
              "          const docLink = document.createElement('div');\n",
              "          docLink.innerHTML = docLinkHtml;\n",
              "          element.appendChild(docLink);\n",
              "        }\n",
              "      </script>\n",
              "    </div>\n",
              "  </div>\n",
              "  "
            ]
          },
          "metadata": {},
          "execution_count": 37
        }
      ]
    },
    {
      "cell_type": "code",
      "source": [
        "final_data_2 = final_data[~(final_data['movieId'].isin(for_delete['movieId']) & final_data['userId'].isin([212343]))]\n",
        "final_data_2"
      ],
      "metadata": {
        "colab": {
          "base_uri": "https://localhost:8080/",
          "height": 424
        },
        "id": "TMgrI_tg3Duw",
        "outputId": "d4f14640-f762-477b-8f86-a95356498fea"
      },
      "execution_count": null,
      "outputs": [
        {
          "output_type": "execute_result",
          "data": {
            "text/plain": [
              "          userId  movieId  rating   timestamp\n",
              "0         183750        6     3.0   857915212\n",
              "1         277081        6     5.0  1097520094\n",
              "2         242725        6     3.5  1275235314\n",
              "3         231078        6     5.0  1114780711\n",
              "4          38333        6     5.0  1251843253\n",
              "...          ...      ...     ...         ...\n",
              "11315851  212343   189885     2.5  1529431119\n",
              "11315852  212343   191157     3.5  1531805008\n",
              "11315853  212343   192659     2.0  1534733035\n",
              "11315854  212343   192917     2.5  1535607481\n",
              "11315855  212343   193551     2.0  1537080716\n",
              "\n",
              "[11315854 rows x 4 columns]"
            ],
            "text/html": [
              "\n",
              "  <div id=\"df-d5a8f7b7-5d9e-4cbb-aa7f-d818d8e76f58\">\n",
              "    <div class=\"colab-df-container\">\n",
              "      <div>\n",
              "<style scoped>\n",
              "    .dataframe tbody tr th:only-of-type {\n",
              "        vertical-align: middle;\n",
              "    }\n",
              "\n",
              "    .dataframe tbody tr th {\n",
              "        vertical-align: top;\n",
              "    }\n",
              "\n",
              "    .dataframe thead th {\n",
              "        text-align: right;\n",
              "    }\n",
              "</style>\n",
              "<table border=\"1\" class=\"dataframe\">\n",
              "  <thead>\n",
              "    <tr style=\"text-align: right;\">\n",
              "      <th></th>\n",
              "      <th>userId</th>\n",
              "      <th>movieId</th>\n",
              "      <th>rating</th>\n",
              "      <th>timestamp</th>\n",
              "    </tr>\n",
              "  </thead>\n",
              "  <tbody>\n",
              "    <tr>\n",
              "      <th>0</th>\n",
              "      <td>183750</td>\n",
              "      <td>6</td>\n",
              "      <td>3.0</td>\n",
              "      <td>857915212</td>\n",
              "    </tr>\n",
              "    <tr>\n",
              "      <th>1</th>\n",
              "      <td>277081</td>\n",
              "      <td>6</td>\n",
              "      <td>5.0</td>\n",
              "      <td>1097520094</td>\n",
              "    </tr>\n",
              "    <tr>\n",
              "      <th>2</th>\n",
              "      <td>242725</td>\n",
              "      <td>6</td>\n",
              "      <td>3.5</td>\n",
              "      <td>1275235314</td>\n",
              "    </tr>\n",
              "    <tr>\n",
              "      <th>3</th>\n",
              "      <td>231078</td>\n",
              "      <td>6</td>\n",
              "      <td>5.0</td>\n",
              "      <td>1114780711</td>\n",
              "    </tr>\n",
              "    <tr>\n",
              "      <th>4</th>\n",
              "      <td>38333</td>\n",
              "      <td>6</td>\n",
              "      <td>5.0</td>\n",
              "      <td>1251843253</td>\n",
              "    </tr>\n",
              "    <tr>\n",
              "      <th>...</th>\n",
              "      <td>...</td>\n",
              "      <td>...</td>\n",
              "      <td>...</td>\n",
              "      <td>...</td>\n",
              "    </tr>\n",
              "    <tr>\n",
              "      <th>11315851</th>\n",
              "      <td>212343</td>\n",
              "      <td>189885</td>\n",
              "      <td>2.5</td>\n",
              "      <td>1529431119</td>\n",
              "    </tr>\n",
              "    <tr>\n",
              "      <th>11315852</th>\n",
              "      <td>212343</td>\n",
              "      <td>191157</td>\n",
              "      <td>3.5</td>\n",
              "      <td>1531805008</td>\n",
              "    </tr>\n",
              "    <tr>\n",
              "      <th>11315853</th>\n",
              "      <td>212343</td>\n",
              "      <td>192659</td>\n",
              "      <td>2.0</td>\n",
              "      <td>1534733035</td>\n",
              "    </tr>\n",
              "    <tr>\n",
              "      <th>11315854</th>\n",
              "      <td>212343</td>\n",
              "      <td>192917</td>\n",
              "      <td>2.5</td>\n",
              "      <td>1535607481</td>\n",
              "    </tr>\n",
              "    <tr>\n",
              "      <th>11315855</th>\n",
              "      <td>212343</td>\n",
              "      <td>193551</td>\n",
              "      <td>2.0</td>\n",
              "      <td>1537080716</td>\n",
              "    </tr>\n",
              "  </tbody>\n",
              "</table>\n",
              "<p>11315854 rows × 4 columns</p>\n",
              "</div>\n",
              "      <button class=\"colab-df-convert\" onclick=\"convertToInteractive('df-d5a8f7b7-5d9e-4cbb-aa7f-d818d8e76f58')\"\n",
              "              title=\"Convert this dataframe to an interactive table.\"\n",
              "              style=\"display:none;\">\n",
              "        \n",
              "  <svg xmlns=\"http://www.w3.org/2000/svg\" height=\"24px\"viewBox=\"0 0 24 24\"\n",
              "       width=\"24px\">\n",
              "    <path d=\"M0 0h24v24H0V0z\" fill=\"none\"/>\n",
              "    <path d=\"M18.56 5.44l.94 2.06.94-2.06 2.06-.94-2.06-.94-.94-2.06-.94 2.06-2.06.94zm-11 1L8.5 8.5l.94-2.06 2.06-.94-2.06-.94L8.5 2.5l-.94 2.06-2.06.94zm10 10l.94 2.06.94-2.06 2.06-.94-2.06-.94-.94-2.06-.94 2.06-2.06.94z\"/><path d=\"M17.41 7.96l-1.37-1.37c-.4-.4-.92-.59-1.43-.59-.52 0-1.04.2-1.43.59L10.3 9.45l-7.72 7.72c-.78.78-.78 2.05 0 2.83L4 21.41c.39.39.9.59 1.41.59.51 0 1.02-.2 1.41-.59l7.78-7.78 2.81-2.81c.8-.78.8-2.07 0-2.86zM5.41 20L4 18.59l7.72-7.72 1.47 1.35L5.41 20z\"/>\n",
              "  </svg>\n",
              "      </button>\n",
              "      \n",
              "  <style>\n",
              "    .colab-df-container {\n",
              "      display:flex;\n",
              "      flex-wrap:wrap;\n",
              "      gap: 12px;\n",
              "    }\n",
              "\n",
              "    .colab-df-convert {\n",
              "      background-color: #E8F0FE;\n",
              "      border: none;\n",
              "      border-radius: 50%;\n",
              "      cursor: pointer;\n",
              "      display: none;\n",
              "      fill: #1967D2;\n",
              "      height: 32px;\n",
              "      padding: 0 0 0 0;\n",
              "      width: 32px;\n",
              "    }\n",
              "\n",
              "    .colab-df-convert:hover {\n",
              "      background-color: #E2EBFA;\n",
              "      box-shadow: 0px 1px 2px rgba(60, 64, 67, 0.3), 0px 1px 3px 1px rgba(60, 64, 67, 0.15);\n",
              "      fill: #174EA6;\n",
              "    }\n",
              "\n",
              "    [theme=dark] .colab-df-convert {\n",
              "      background-color: #3B4455;\n",
              "      fill: #D2E3FC;\n",
              "    }\n",
              "\n",
              "    [theme=dark] .colab-df-convert:hover {\n",
              "      background-color: #434B5C;\n",
              "      box-shadow: 0px 1px 3px 1px rgba(0, 0, 0, 0.15);\n",
              "      filter: drop-shadow(0px 1px 2px rgba(0, 0, 0, 0.3));\n",
              "      fill: #FFFFFF;\n",
              "    }\n",
              "  </style>\n",
              "\n",
              "      <script>\n",
              "        const buttonEl =\n",
              "          document.querySelector('#df-d5a8f7b7-5d9e-4cbb-aa7f-d818d8e76f58 button.colab-df-convert');\n",
              "        buttonEl.style.display =\n",
              "          google.colab.kernel.accessAllowed ? 'block' : 'none';\n",
              "\n",
              "        async function convertToInteractive(key) {\n",
              "          const element = document.querySelector('#df-d5a8f7b7-5d9e-4cbb-aa7f-d818d8e76f58');\n",
              "          const dataTable =\n",
              "            await google.colab.kernel.invokeFunction('convertToInteractive',\n",
              "                                                     [key], {});\n",
              "          if (!dataTable) return;\n",
              "\n",
              "          const docLinkHtml = 'Like what you see? Visit the ' +\n",
              "            '<a target=\"_blank\" href=https://colab.research.google.com/notebooks/data_table.ipynb>data table notebook</a>'\n",
              "            + ' to learn more about interactive tables.';\n",
              "          element.innerHTML = '';\n",
              "          dataTable['output_type'] = 'display_data';\n",
              "          await google.colab.output.renderOutput(dataTable, element);\n",
              "          const docLink = document.createElement('div');\n",
              "          docLink.innerHTML = docLinkHtml;\n",
              "          element.appendChild(docLink);\n",
              "        }\n",
              "      </script>\n",
              "    </div>\n",
              "  </div>\n",
              "  "
            ]
          },
          "metadata": {},
          "execution_count": 38
        }
      ]
    },
    {
      "cell_type": "code",
      "source": [
        "# 재학습 들어갑니다잉\n",
        "final_data_2.to_csv('final_data_2_212343', index=False, header=False)"
      ],
      "metadata": {
        "id": "rJVRAe634MKT"
      },
      "execution_count": null,
      "outputs": []
    },
    {
      "cell_type": "code",
      "source": [
        "col = 'user item rating'\n",
        "reader = Reader(line_format=col, sep=',', rating_scale=(0.5, 5))\n",
        "data_folds_2 = DatasetAutoFolds(ratings_file='/content/final_data_2_212343', reader=reader)\n",
        "data_folds_2"
      ],
      "metadata": {
        "colab": {
          "base_uri": "https://localhost:8080/"
        },
        "id": "rxCCiyN34seb",
        "outputId": "b7182d98-2460-4af6-95df-5d1069180796"
      },
      "execution_count": null,
      "outputs": [
        {
          "output_type": "execute_result",
          "data": {
            "text/plain": [
              "<surprise.dataset.DatasetAutoFolds at 0x7f8de269adc0>"
            ]
          },
          "metadata": {},
          "execution_count": 40
        }
      ]
    },
    {
      "cell_type": "code",
      "source": [
        "trainset_2 = data_folds_2.build_full_trainset()"
      ],
      "metadata": {
        "id": "UkZSWmM242GU"
      },
      "execution_count": null,
      "outputs": []
    },
    {
      "cell_type": "code",
      "source": [
        "algo = SVD(n_epochs =  20, n_factors = 50, random_state = 0)\n",
        "algo.fit(trainset_2)"
      ],
      "metadata": {
        "colab": {
          "base_uri": "https://localhost:8080/"
        },
        "id": "x3huDCbB5Bne",
        "outputId": "a88c7b1c-1b88-47cf-9419-2be12fbbba4c"
      },
      "execution_count": null,
      "outputs": [
        {
          "output_type": "execute_result",
          "data": {
            "text/plain": [
              "<surprise.prediction_algorithms.matrix_factorization.SVD at 0x7f8de269a760>"
            ]
          },
          "metadata": {},
          "execution_count": 42
        }
      ]
    },
    {
      "cell_type": "code",
      "source": [
        "# 이번엔 아까 지웠던 영화 데이터만 가져오자. 그냥 50번, 177901번 가져오면 되긴 하지만... 더 많이 지웠다면 이렇게 가져오면 됨.\n",
        "not_watched_movies = for_delete['movieId'].tolist()\n",
        "not_watched_movies"
      ],
      "metadata": {
        "colab": {
          "base_uri": "https://localhost:8080/"
        },
        "id": "QTHrdYdx5HHV",
        "outputId": "b14487c3-a0fa-4d81-afd4-717dd6b2c590"
      },
      "execution_count": null,
      "outputs": [
        {
          "output_type": "execute_result",
          "data": {
            "text/plain": [
              "[50, 177901]"
            ]
          },
          "metadata": {},
          "execution_count": 43
        }
      ]
    },
    {
      "cell_type": "code",
      "source": [
        "# 예측값이 짜긴한데... 오차 감안하면 그냥 비슷하게 주는듯? 5 vs 3.05 // 3.5 vs 2.34\n",
        "recommend_movies_for_user(algo, 212343, not_watched_movies, len(not_watched_movies))"
      ],
      "metadata": {
        "colab": {
          "base_uri": "https://localhost:8080/"
        },
        "id": "P2EGhfYf5Xku",
        "outputId": "91edd150-6c03-4f07-a06d-a3a61f3ab2cb"
      },
      "execution_count": null,
      "outputs": [
        {
          "output_type": "stream",
          "name": "stdout",
          "text": [
            "212343님의 인생을 바꿀 Top 2 추천 영화 리스트\n",
            "['Usual Suspects, The (1995)']: 3.05 // [['Crime', 'Mystery', 'Thriller']]\n",
            "['The Guilty (2000)']: 2.34 // [['Crime', 'Drama', 'Thriller']]\n"
          ]
        }
      ]
    }
  ]
}