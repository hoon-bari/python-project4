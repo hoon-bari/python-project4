{
  "nbformat": 4,
  "nbformat_minor": 0,
  "metadata": {
    "colab": {
      "provenance": [],
      "machine_shape": "hm"
    },
    "kernelspec": {
      "name": "python3",
      "display_name": "Python 3"
    },
    "language_info": {
      "name": "python"
    },
    "gpuClass": "premium",
    "accelerator": "GPU"
  },
  "cells": [
    {
      "cell_type": "code",
      "source": [
        "!pip install scikit-surprise"
      ],
      "metadata": {
        "id": "rS6yRVYWZgrr"
      },
      "execution_count": null,
      "outputs": []
    },
    {
      "cell_type": "code",
      "source": [
        "import pandas as pd\n",
        "import surprise\n",
        "import numpy as np"
      ],
      "metadata": {
        "id": "NEEdyGffZdKR"
      },
      "execution_count": null,
      "outputs": []
    },
    {
      "cell_type": "code",
      "source": [
        "# 이번엔 KNN돌려볼건데 계속 램이 터져서... 일단 랜덤데이터로만 고\n",
        "final_data_random = pd.read_csv('/content/drive/MyDrive/212343_final_data_random.csv', index_col=0)"
      ],
      "metadata": {
        "id": "Br_aemU2ae9G"
      },
      "execution_count": null,
      "outputs": []
    },
    {
      "cell_type": "code",
      "source": [
        "#... 근데 해보니까 1000000만개 학습은 어림도 없고, 1000000개도 램 터진다. 데이터 개수를 겁나게 줄이겠다.\n",
        "import random\n",
        "KNN_random_index = random.sample(list(final_data_random.index), 50000)\n",
        "KNN_random = final_data_random.loc[KNN_random_index]\n",
        "KNN_random"
      ],
      "metadata": {
        "colab": {
          "base_uri": "https://localhost:8080/",
          "height": 424
        },
        "id": "NQ2x-nzMcuE2",
        "outputId": "351a0559-4b55-4682-92c0-4f4e69eb294b"
      },
      "execution_count": null,
      "outputs": [
        {
          "output_type": "execute_result",
          "data": {
            "text/plain": [
              "        userId  movieId  rating   timestamp\n",
              "615301  230658    48516     3.5  1309650129\n",
              "120921   48656     4034     3.5  1150221231\n",
              "33988    50840      110     3.0  1209248122\n",
              "679069  248563     1988     2.0   901622632\n",
              "437076   19421     2511     3.0   965172593\n",
              "...        ...      ...     ...         ...\n",
              "628364  122834   103339     4.0  1430231439\n",
              "680082    8772     2455     3.5  1105401340\n",
              "67194   281340     1233     3.0  1002580558\n",
              "30732   261508     1204     5.0  1107585229\n",
              "840256   97701     4310     3.0  1007876401\n",
              "\n",
              "[50000 rows x 4 columns]"
            ],
            "text/html": [
              "\n",
              "  <div id=\"df-f83d89b1-5a97-415c-a5f0-04b1fbe820e4\">\n",
              "    <div class=\"colab-df-container\">\n",
              "      <div>\n",
              "<style scoped>\n",
              "    .dataframe tbody tr th:only-of-type {\n",
              "        vertical-align: middle;\n",
              "    }\n",
              "\n",
              "    .dataframe tbody tr th {\n",
              "        vertical-align: top;\n",
              "    }\n",
              "\n",
              "    .dataframe thead th {\n",
              "        text-align: right;\n",
              "    }\n",
              "</style>\n",
              "<table border=\"1\" class=\"dataframe\">\n",
              "  <thead>\n",
              "    <tr style=\"text-align: right;\">\n",
              "      <th></th>\n",
              "      <th>userId</th>\n",
              "      <th>movieId</th>\n",
              "      <th>rating</th>\n",
              "      <th>timestamp</th>\n",
              "    </tr>\n",
              "  </thead>\n",
              "  <tbody>\n",
              "    <tr>\n",
              "      <th>615301</th>\n",
              "      <td>230658</td>\n",
              "      <td>48516</td>\n",
              "      <td>3.5</td>\n",
              "      <td>1309650129</td>\n",
              "    </tr>\n",
              "    <tr>\n",
              "      <th>120921</th>\n",
              "      <td>48656</td>\n",
              "      <td>4034</td>\n",
              "      <td>3.5</td>\n",
              "      <td>1150221231</td>\n",
              "    </tr>\n",
              "    <tr>\n",
              "      <th>33988</th>\n",
              "      <td>50840</td>\n",
              "      <td>110</td>\n",
              "      <td>3.0</td>\n",
              "      <td>1209248122</td>\n",
              "    </tr>\n",
              "    <tr>\n",
              "      <th>679069</th>\n",
              "      <td>248563</td>\n",
              "      <td>1988</td>\n",
              "      <td>2.0</td>\n",
              "      <td>901622632</td>\n",
              "    </tr>\n",
              "    <tr>\n",
              "      <th>437076</th>\n",
              "      <td>19421</td>\n",
              "      <td>2511</td>\n",
              "      <td>3.0</td>\n",
              "      <td>965172593</td>\n",
              "    </tr>\n",
              "    <tr>\n",
              "      <th>...</th>\n",
              "      <td>...</td>\n",
              "      <td>...</td>\n",
              "      <td>...</td>\n",
              "      <td>...</td>\n",
              "    </tr>\n",
              "    <tr>\n",
              "      <th>628364</th>\n",
              "      <td>122834</td>\n",
              "      <td>103339</td>\n",
              "      <td>4.0</td>\n",
              "      <td>1430231439</td>\n",
              "    </tr>\n",
              "    <tr>\n",
              "      <th>680082</th>\n",
              "      <td>8772</td>\n",
              "      <td>2455</td>\n",
              "      <td>3.5</td>\n",
              "      <td>1105401340</td>\n",
              "    </tr>\n",
              "    <tr>\n",
              "      <th>67194</th>\n",
              "      <td>281340</td>\n",
              "      <td>1233</td>\n",
              "      <td>3.0</td>\n",
              "      <td>1002580558</td>\n",
              "    </tr>\n",
              "    <tr>\n",
              "      <th>30732</th>\n",
              "      <td>261508</td>\n",
              "      <td>1204</td>\n",
              "      <td>5.0</td>\n",
              "      <td>1107585229</td>\n",
              "    </tr>\n",
              "    <tr>\n",
              "      <th>840256</th>\n",
              "      <td>97701</td>\n",
              "      <td>4310</td>\n",
              "      <td>3.0</td>\n",
              "      <td>1007876401</td>\n",
              "    </tr>\n",
              "  </tbody>\n",
              "</table>\n",
              "<p>50000 rows × 4 columns</p>\n",
              "</div>\n",
              "      <button class=\"colab-df-convert\" onclick=\"convertToInteractive('df-f83d89b1-5a97-415c-a5f0-04b1fbe820e4')\"\n",
              "              title=\"Convert this dataframe to an interactive table.\"\n",
              "              style=\"display:none;\">\n",
              "        \n",
              "  <svg xmlns=\"http://www.w3.org/2000/svg\" height=\"24px\"viewBox=\"0 0 24 24\"\n",
              "       width=\"24px\">\n",
              "    <path d=\"M0 0h24v24H0V0z\" fill=\"none\"/>\n",
              "    <path d=\"M18.56 5.44l.94 2.06.94-2.06 2.06-.94-2.06-.94-.94-2.06-.94 2.06-2.06.94zm-11 1L8.5 8.5l.94-2.06 2.06-.94-2.06-.94L8.5 2.5l-.94 2.06-2.06.94zm10 10l.94 2.06.94-2.06 2.06-.94-2.06-.94-.94-2.06-.94 2.06-2.06.94z\"/><path d=\"M17.41 7.96l-1.37-1.37c-.4-.4-.92-.59-1.43-.59-.52 0-1.04.2-1.43.59L10.3 9.45l-7.72 7.72c-.78.78-.78 2.05 0 2.83L4 21.41c.39.39.9.59 1.41.59.51 0 1.02-.2 1.41-.59l7.78-7.78 2.81-2.81c.8-.78.8-2.07 0-2.86zM5.41 20L4 18.59l7.72-7.72 1.47 1.35L5.41 20z\"/>\n",
              "  </svg>\n",
              "      </button>\n",
              "      \n",
              "  <style>\n",
              "    .colab-df-container {\n",
              "      display:flex;\n",
              "      flex-wrap:wrap;\n",
              "      gap: 12px;\n",
              "    }\n",
              "\n",
              "    .colab-df-convert {\n",
              "      background-color: #E8F0FE;\n",
              "      border: none;\n",
              "      border-radius: 50%;\n",
              "      cursor: pointer;\n",
              "      display: none;\n",
              "      fill: #1967D2;\n",
              "      height: 32px;\n",
              "      padding: 0 0 0 0;\n",
              "      width: 32px;\n",
              "    }\n",
              "\n",
              "    .colab-df-convert:hover {\n",
              "      background-color: #E2EBFA;\n",
              "      box-shadow: 0px 1px 2px rgba(60, 64, 67, 0.3), 0px 1px 3px 1px rgba(60, 64, 67, 0.15);\n",
              "      fill: #174EA6;\n",
              "    }\n",
              "\n",
              "    [theme=dark] .colab-df-convert {\n",
              "      background-color: #3B4455;\n",
              "      fill: #D2E3FC;\n",
              "    }\n",
              "\n",
              "    [theme=dark] .colab-df-convert:hover {\n",
              "      background-color: #434B5C;\n",
              "      box-shadow: 0px 1px 3px 1px rgba(0, 0, 0, 0.15);\n",
              "      filter: drop-shadow(0px 1px 2px rgba(0, 0, 0, 0.3));\n",
              "      fill: #FFFFFF;\n",
              "    }\n",
              "  </style>\n",
              "\n",
              "      <script>\n",
              "        const buttonEl =\n",
              "          document.querySelector('#df-f83d89b1-5a97-415c-a5f0-04b1fbe820e4 button.colab-df-convert');\n",
              "        buttonEl.style.display =\n",
              "          google.colab.kernel.accessAllowed ? 'block' : 'none';\n",
              "\n",
              "        async function convertToInteractive(key) {\n",
              "          const element = document.querySelector('#df-f83d89b1-5a97-415c-a5f0-04b1fbe820e4');\n",
              "          const dataTable =\n",
              "            await google.colab.kernel.invokeFunction('convertToInteractive',\n",
              "                                                     [key], {});\n",
              "          if (!dataTable) return;\n",
              "\n",
              "          const docLinkHtml = 'Like what you see? Visit the ' +\n",
              "            '<a target=\"_blank\" href=https://colab.research.google.com/notebooks/data_table.ipynb>data table notebook</a>'\n",
              "            + ' to learn more about interactive tables.';\n",
              "          element.innerHTML = '';\n",
              "          dataTable['output_type'] = 'display_data';\n",
              "          await google.colab.output.renderOutput(dataTable, element);\n",
              "          const docLink = document.createElement('div');\n",
              "          docLink.innerHTML = docLinkHtml;\n",
              "          element.appendChild(docLink);\n",
              "        }\n",
              "      </script>\n",
              "    </div>\n",
              "  </div>\n",
              "  "
            ]
          },
          "metadata": {},
          "execution_count": 4
        }
      ]
    },
    {
      "cell_type": "code",
      "source": [
        "# 영화 데이터도 고\n",
        "movie_df = pd.read_csv('/content/drive/MyDrive/movies.csv')"
      ],
      "metadata": {
        "id": "Ya31Lp1GarvY"
      },
      "execution_count": null,
      "outputs": []
    },
    {
      "cell_type": "code",
      "source": [
        "# 나눠봅시다잉\n",
        "from surprise import SVD, Dataset, accuracy\n",
        "from surprise.model_selection import train_test_split\n",
        "from surprise.dataset import DatasetAutoFolds\n",
        "from surprise import Reader\n",
        "\n",
        "col = 'user item rating'\n",
        "reader = Reader(line_format=col, sep='\\t') # 반드시 사용자-아이템-평점 순서로\n",
        "data = Dataset.load_from_df(KNN_random[['userId', 'movieId', 'rating']], reader=reader)\n",
        "trainset, testset = train_test_split(data, test_size=0.25, random_state=42)"
      ],
      "metadata": {
        "id": "7UzfauB_av8O"
      },
      "execution_count": null,
      "outputs": []
    },
    {
      "cell_type": "code",
      "execution_count": null,
      "metadata": {
        "colab": {
          "base_uri": "https://localhost:8080/"
        },
        "id": "1JIJa5eAZY0s",
        "outputId": "077b4c74-715a-4aae-9bc1-b444f3c7a30b"
      },
      "outputs": [
        {
          "output_type": "stream",
          "name": "stdout",
          "text": [
            "Computing the cosine similarity matrix...\n",
            "Done computing similarity matrix.\n"
          ]
        },
        {
          "output_type": "execute_result",
          "data": {
            "text/plain": [
              "<surprise.prediction_algorithms.knns.KNNWithMeans at 0x7feebc6f09a0>"
            ]
          },
          "metadata": {},
          "execution_count": 7
        }
      ],
      "source": [
        "# KNNBasic과 KNNWithMeans의 차이점은 k명의 유사 사용자들이 item에 대해 평가한 평점들을 그대로 가중합 하지 않는다는 것. \n",
        "# 우리가 예측하려는 사용자의 평균을 더해주는 방법으로 사용자의 특성을 좀 더 부가하는 방법이라고 이해하면 편하다.\n",
        "# 출처 : https://danthetech.netlify.app/DataScience/how-does-recommendation-algorithms-work-using-surpriselib#knnwithmeans\n",
        "from surprise import KNNWithMeans \n",
        "sim_options = {\n",
        "    'name': 'cosine', # ['msd', 'pearson_baseline', 'pearson']\n",
        "    'user_based': True, # user를 base로 할것인지 item을 base로 할 것인지 결정. 보통은 아이템 기반의 추천 방식을 사용한다고 한다.\n",
        "    # 왜냐하면 사용자 기반의 추천방식은 특정 사용자를 비슷한 다른 사용자들과 특성이 거의 비슷함을 가정하는데, 이는 개개인마다 기호, 성격이 각기 너무 다른 현실세계의 변수를 제대로 반영하지 못하기 때문이라고.\n",
        "    # 그래도 여기서는 사용자 기반으로 해보겠음. KNNWithMeans와 연계하여\n",
        "    'min_support': 150, # u, v간 교집합 원소 최소 갯수를 설정한다. 이 경우는 150개 이상의 공통된 아이템(or 사용자)가 존재하면 유사도를 계산하지만, 그 미만의 경우에는 sim(u, v) == 0로 설정한다.\n",
        "    # 왜 150개로 했냐고? 랜덤데이터 1000000개 / 212343 데이터 7000개라 그냥 나눈 값 근사치로\n",
        "    'shrinkage': 0, # 이 파라미터는 pearson_baseline을 사용할 경우에만 해당된다.\n",
        "}\n",
        "algo = KNNWithMeans(sim_options=sim_options)\n",
        "algo.fit(trainset)"
      ]
    },
    {
      "cell_type": "code",
      "source": [
        "# 10000000개에서 50000개까지 줄여야 학습이 되는구나... 그것도 그나마 트레인셋 75%면 37000개 정도네... 결과나 보자.\n",
        "test_pred = algo.test(testset)\n",
        "test_pred[:2]"
      ],
      "metadata": {
        "colab": {
          "base_uri": "https://localhost:8080/"
        },
        "id": "HhGhce7TcIJZ",
        "outputId": "0942032b-6e90-4a04-f270-aed8762479a7"
      },
      "execution_count": null,
      "outputs": [
        {
          "output_type": "execute_result",
          "data": {
            "text/plain": [
              "[Prediction(uid=281785, iid=608, r_ui=3.0, est=3.5693733333333335, details={'was_impossible': True, 'reason': 'User and/or item is unknown.'}),\n",
              " Prediction(uid=79570, iid=43936, r_ui=3.0, est=3.5693733333333335, details={'was_impossible': True, 'reason': 'User and/or item is unknown.'})]"
            ]
          },
          "metadata": {},
          "execution_count": 8
        }
      ]
    },
    {
      "cell_type": "code",
      "source": [
        "# 데이터가 많이 없다보니까 오차가 높구먼... min_support를 줄여봐야겠다.\n",
        "surprise.accuracy.rmse(test_pred, verbose=False)"
      ],
      "metadata": {
        "colab": {
          "base_uri": "https://localhost:8080/"
        },
        "id": "eZc84b6HeFAa",
        "outputId": "f3be2c36-0e4b-4eba-aebd-4ac94bf3ff71"
      },
      "execution_count": null,
      "outputs": [
        {
          "output_type": "execute_result",
          "data": {
            "text/plain": [
              "1.1178696680079854"
            ]
          },
          "metadata": {},
          "execution_count": 9
        }
      ]
    },
    {
      "cell_type": "code",
      "source": [
        "sim_options = {\n",
        "    'name': 'pearson', # ['msd', 'pearson_baseline', 'cosine'] # 이번엔 pearson으로\n",
        "    'user_based': True, \n",
        "    'min_support': 5, # 5로 해보겠다.\n",
        "    'shrinkage': 0, \n",
        "}\n",
        "algo = KNNWithMeans(sim_options=sim_options)\n",
        "algo.fit(trainset)"
      ],
      "metadata": {
        "colab": {
          "base_uri": "https://localhost:8080/"
        },
        "id": "CWJo4CeeeJ0k",
        "outputId": "94c76a88-2073-42b3-cd48-a0b4718d2c15"
      },
      "execution_count": null,
      "outputs": [
        {
          "output_type": "stream",
          "name": "stdout",
          "text": [
            "Computing the pearson similarity matrix...\n",
            "Done computing similarity matrix.\n"
          ]
        },
        {
          "output_type": "execute_result",
          "data": {
            "text/plain": [
              "<surprise.prediction_algorithms.knns.KNNWithMeans at 0x7feebc63a1c0>"
            ]
          },
          "metadata": {},
          "execution_count": 10
        }
      ]
    },
    {
      "cell_type": "code",
      "source": [
        "test_pred = algo.test(testset)\n",
        "test_pred[:2]"
      ],
      "metadata": {
        "colab": {
          "base_uri": "https://localhost:8080/"
        },
        "id": "vNX1P_ZngWh-",
        "outputId": "8433ad89-6d0e-4b41-c87a-3e98bbb2acd3"
      },
      "execution_count": null,
      "outputs": [
        {
          "output_type": "execute_result",
          "data": {
            "text/plain": [
              "[Prediction(uid=281785, iid=608, r_ui=3.0, est=3.5693733333333335, details={'was_impossible': True, 'reason': 'User and/or item is unknown.'}),\n",
              " Prediction(uid=79570, iid=43936, r_ui=3.0, est=3.5693733333333335, details={'was_impossible': True, 'reason': 'User and/or item is unknown.'})]"
            ]
          },
          "metadata": {},
          "execution_count": 11
        }
      ]
    },
    {
      "cell_type": "code",
      "source": [
        "# ...? 똑같네...? 그러면 이번엔 item_base, msd로 해보자.\n",
        "surprise.accuracy.rmse(test_pred, verbose=False)"
      ],
      "metadata": {
        "colab": {
          "base_uri": "https://localhost:8080/"
        },
        "id": "qu3UbbgPhSy9",
        "outputId": "85261821-7c53-4553-fd7f-275cd457c637"
      },
      "execution_count": null,
      "outputs": [
        {
          "output_type": "execute_result",
          "data": {
            "text/plain": [
              "1.1178696680079854"
            ]
          },
          "metadata": {},
          "execution_count": 12
        }
      ]
    },
    {
      "cell_type": "code",
      "source": [
        "sim_options = {\n",
        "    'name': 'msd', # ['pearson', 'pearson_baseline', 'cosine']\n",
        "    'item_based': True, \n",
        "    'min_support': 5,\n",
        "    'shrinkage': 0, \n",
        "}\n",
        "algo = KNNWithMeans(sim_options=sim_options)\n",
        "algo.fit(trainset)"
      ],
      "metadata": {
        "colab": {
          "base_uri": "https://localhost:8080/"
        },
        "id": "ywonD8JZhUgm",
        "outputId": "8a668548-7bcb-4894-e1ff-01b0f1537587"
      },
      "execution_count": null,
      "outputs": [
        {
          "output_type": "stream",
          "name": "stdout",
          "text": [
            "Computing the msd similarity matrix...\n",
            "Done computing similarity matrix.\n"
          ]
        },
        {
          "output_type": "execute_result",
          "data": {
            "text/plain": [
              "<surprise.prediction_algorithms.knns.KNNWithMeans at 0x7feebc68afa0>"
            ]
          },
          "metadata": {},
          "execution_count": 15
        }
      ]
    },
    {
      "cell_type": "code",
      "source": [
        "test_pred = algo.test(testset)\n",
        "test_pred[:2]"
      ],
      "metadata": {
        "colab": {
          "base_uri": "https://localhost:8080/"
        },
        "id": "vsHQMbSohnDL",
        "outputId": "4afea75b-277c-4e03-f4c3-a93c3eaa472e"
      },
      "execution_count": null,
      "outputs": [
        {
          "output_type": "execute_result",
          "data": {
            "text/plain": [
              "[Prediction(uid=281785, iid=608, r_ui=3.0, est=3.5693733333333335, details={'was_impossible': True, 'reason': 'User and/or item is unknown.'}),\n",
              " Prediction(uid=79570, iid=43936, r_ui=3.0, est=3.5693733333333335, details={'was_impossible': True, 'reason': 'User and/or item is unknown.'})]"
            ]
          },
          "metadata": {},
          "execution_count": 16
        }
      ]
    },
    {
      "cell_type": "code",
      "source": [
        "surprise.accuracy.rmse(test_pred, verbose=False)"
      ],
      "metadata": {
        "colab": {
          "base_uri": "https://localhost:8080/"
        },
        "id": "6RpJ5YWpidBD",
        "outputId": "b5e4151e-756f-4b9c-9c19-7ceb733f6512"
      },
      "execution_count": null,
      "outputs": [
        {
          "output_type": "execute_result",
          "data": {
            "text/plain": [
              "1.1178696680079854"
            ]
          },
          "metadata": {},
          "execution_count": 20
        }
      ]
    },
    {
      "cell_type": "code",
      "source": [
        "# 그냥 똑같구먼.... 그럼 이번엔 KNNBasic, pearson_baseline, item_based = True로 해보자.\n",
        "from surprise import KNNBasic\n",
        "sim_options = {\n",
        "    'name': 'pearson_baseline', # ['pearson', 'msd', 'cosine']\n",
        "    'item_based': True, \n",
        "    'min_support': 5,\n",
        "    'shrinkage': 100, # pearson_baseline은 얘를 줘야함.\n",
        "    # 피어슨-베이스라인 유사도는 벡터의 차원 즉, 두 사용자나 상품에 공통적으로 있는 평점 원소의 갯수를 이용하여 정규화를 하는 shrinkage를 추가하여 사용한다.\n",
        "    # 출처 : https://datascienceschool.net/03%20machine%20learning/07.01%20%EC%B6%94%EC%B2%9C%20%EC%8B%9C%EC%8A%A4%ED%85%9C.html\n",
        "}\n",
        "algo = KNNBasic(sim_options=sim_options)\n",
        "algo.fit(trainset)"
      ],
      "metadata": {
        "colab": {
          "base_uri": "https://localhost:8080/"
        },
        "id": "RpQYzrOBhpn7",
        "outputId": "1d58f0da-993a-4a1e-801a-adfd3d91f1d2"
      },
      "execution_count": null,
      "outputs": [
        {
          "output_type": "stream",
          "name": "stdout",
          "text": [
            "Estimating biases using als...\n",
            "Computing the pearson_baseline similarity matrix...\n",
            "Done computing similarity matrix.\n"
          ]
        },
        {
          "output_type": "execute_result",
          "data": {
            "text/plain": [
              "<surprise.prediction_algorithms.knns.KNNBasic at 0x7feebc6f0610>"
            ]
          },
          "metadata": {},
          "execution_count": 23
        }
      ]
    },
    {
      "cell_type": "code",
      "source": [
        "# 램이 진짜 터지려고한다....\n",
        "test_pred = algo.test(testset)\n",
        "test_pred[:2]"
      ],
      "metadata": {
        "colab": {
          "base_uri": "https://localhost:8080/"
        },
        "id": "KcgDAyHmh26A",
        "outputId": "59497f66-19aa-4e78-e8ee-7e889ef08c6e"
      },
      "execution_count": null,
      "outputs": [
        {
          "output_type": "execute_result",
          "data": {
            "text/plain": [
              "[Prediction(uid=281785, iid=608, r_ui=3.0, est=3.5693733333333335, details={'was_impossible': True, 'reason': 'User and/or item is unknown.'}),\n",
              " Prediction(uid=79570, iid=43936, r_ui=3.0, est=3.5693733333333335, details={'was_impossible': True, 'reason': 'User and/or item is unknown.'})]"
            ]
          },
          "metadata": {},
          "execution_count": 24
        }
      ]
    },
    {
      "cell_type": "code",
      "source": [
        "# 조금 줄긴 했네... 근데 이거로는 212343에게 추천은 불가능 할것 같다. 랜덤으로 뽑은 데이터에 212343이 없을수도 있기 때문.\n",
        "# 그냥 재미로 했다고 생각하자.\n",
        "surprise.accuracy.rmse(test_pred, verbose=False)"
      ],
      "metadata": {
        "colab": {
          "base_uri": "https://localhost:8080/"
        },
        "id": "YpLrWtHKie2B",
        "outputId": "2c5ea2b2-7c42-4aa1-e19d-71967233d908"
      },
      "execution_count": null,
      "outputs": [
        {
          "output_type": "execute_result",
          "data": {
            "text/plain": [
              "1.0505237313095046"
            ]
          },
          "metadata": {},
          "execution_count": 25
        }
      ]
    }
  ]
}